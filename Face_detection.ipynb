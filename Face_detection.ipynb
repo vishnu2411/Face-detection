{
 "cells": [
  {
   "cell_type": "code",
   "execution_count": 8,
   "metadata": {},
   "outputs": [],
   "source": [
    "import cv2"
   ]
  },
  {
   "cell_type": "code",
   "execution_count": 9,
   "metadata": {},
   "outputs": [],
   "source": [
    "import PIL"
   ]
  },
  {
   "cell_type": "code",
   "execution_count": 15,
   "metadata": {},
   "outputs": [
    {
     "name": "stdout",
     "output_type": "stream",
     "text": [
      "Enter user id2\n"
     ]
    }
   ],
   "source": [
    "import cv2\n",
    "face_detect=cv2.CascadeClassifier('haarcascade_frontalface_default.xml')   #face is extracted using this\n",
    "video=cv2.VideoCapture(0)    #capture image from webcam(if web cam is connected separately use 1 in place of 0)\n",
    "id=input('Enter user id')    #enter any id(should be unique)\n",
    "sampleNum=0                  \n",
    "while True:\n",
    "    check,frame=video.read()         #reads the face \n",
    "    gray=cv2.cvtColor(frame,cv2.COLOR_BGR2GRAY)            #changing coloured image to gray scale image(B&W)\n",
    "    face=face_detect.detectMultiScale(gray,scaleFactor=1.05,minNeighbors=15)    #detect the multiscale image by detecting frames\n",
    "    for (x,y,w,h) in face:                   #extract the faces and store it with your name\n",
    "        sampleNum=sampleNum+1\n",
    "        cv2.imwrite('Dataset//User.'+str(id)+\".\"+str(sampleNum)+\".jpg\",gray[y:y+h,x:x+w])   #path where it should be stored\n",
    "        cv2.rectangle(frame,(x,y),(x+w,y+h),(255,0,0),2)\n",
    "        cv2.waitKey(100);\n",
    "    cv2.imshow(\"Vishnu\",frame)\n",
    "    cv2.waitKey(1);\n",
    "    if(sampleNum>30):\n",
    "        break\n",
    "video.release()\n",
    "cv2.destroyAllWindows()    #closes after taking 30 images of the face"
   ]
  },
  {
   "cell_type": "code",
   "execution_count": 16,
   "metadata": {},
   "outputs": [],
   "source": [
    "import cv2,os\n",
    "import numpy as np\n",
    "from PIL import Image    \n",
    "#we are training the face saple here by putting all the captured image pixels into an array for this the PIL is used\n",
    "recognizer = cv2.face.LBPHFaceRecognizer_create()    #localBinaryPattern(LBP) and H stands for histogram(extracts pixels from images and puts them into histogram)\n",
    "detector= cv2.CascadeClassifier('haarcascade_frontalface_default.xml');\n",
    "path=(\"Dataset\")\n",
    "\n",
    "def getImagesAndLabels(path):\n",
    "    #get the path of all the files in the folder\n",
    "    imagePaths=[os.path.join(path,f) for f in os.listdir(path)] \n",
    "    #create empth face list\n",
    "    faceSamples=[]\n",
    "    #create empty ID list\n",
    "    Ids=[]\n",
    "    #now looping through all the image paths and loading the Ids and the images\n",
    "    for imagePath in imagePaths:\n",
    "        #loading the image and converting it to gray scale\n",
    "        pilImage=Image.open(imagePath).convert('L')\n",
    "        #Now we are converting the PIL image into numpy array\n",
    "        imageNp=np.array(pilImage,'uint8')\n",
    "        #getting the Id from the image\n",
    "        Id=int(os.path.split(imagePath)[-1].split(\".\")[1])\n",
    "        # extract the face from the training image sample\n",
    "        faces=detector.detectMultiScale(imageNp)\n",
    "        #If a face is there then append that in the list as well as Id of it\n",
    "        for (x,y,w,h) in faces:\n",
    "            faceSamples.append(imageNp[y:y+h,x:x+w])\n",
    "            Ids.append(Id)\n",
    "    return faceSamples,Ids\n",
    "\n",
    "\n",
    "faces,Ids = getImagesAndLabels(path)\n",
    "recognizer.train(faces, np.array(Ids))\n",
    "recognizer.save('Recogniser\\\\trainner.yml')\n",
    "cv2.destroyAllWindows()\n"
   ]
  },
  {
   "cell_type": "code",
   "execution_count": 17,
   "metadata": {},
   "outputs": [],
   "source": [
    "#this is the final step and here we are dtecting the faces\n",
    "import cv2\n",
    "face_detect=cv2.CascadeClassifier('haarcascade_frontalface_default.xml')\n",
    "video=cv2.VideoCapture(0)\n",
    "rec=cv2.face.LBPHFaceRecognizer_create()\n",
    "rec.read(\"Recogniser\\\\trainner.yml\")\n",
    "         \n",
    "id=0\n",
    "font=cv2.FONT_HERSHEY_SIMPLEX          #font style\n",
    "\n",
    "while True:\n",
    "    check,frame=video.read()\n",
    "    gray=cv2.cvtColor(frame,cv2.COLOR_BGR2GRAY)         #converts the colour image to grayscale to detect \n",
    "    face=face_detect.detectMultiScale(gray,scaleFactor=1.05,minNeighbors=15)\n",
    "    for (x,y,w,h) in face:\n",
    "        cv2.rectangle(frame,(x,y),(x+w++3,y+h++3),(0,255,0),3)       #create rectangle frame\n",
    "        id,conf=rec.predict(gray[y:y+h,x:x+w])\n",
    "        if (id==1):\n",
    "            id='Vishnu'\n",
    "        #elif id==2:\n",
    "            #id='someone'\n",
    "        cv2.putText(frame,str(id),(x+h,y),font,1,(255,0,0),2);\n",
    "    cv2.imshow(\"Vishnu\",frame)\n",
    "    key=cv2.waitKey(1)\n",
    "    if key==ord('k'):\n",
    "        break\n",
    "video.release()\n",
    "cv2.destroyAllWindows()\n"
   ]
  },
  {
   "cell_type": "code",
   "execution_count": null,
   "metadata": {},
   "outputs": [],
   "source": []
  }
 ],
 "metadata": {
  "kernelspec": {
   "display_name": "Python 3",
   "language": "python",
   "name": "python3"
  },
  "language_info": {
   "codemirror_mode": {
    "name": "ipython",
    "version": 3
   },
   "file_extension": ".py",
   "mimetype": "text/x-python",
   "name": "python",
   "nbconvert_exporter": "python",
   "pygments_lexer": "ipython3",
   "version": "3.7.6"
  }
 },
 "nbformat": 4,
 "nbformat_minor": 4
}
